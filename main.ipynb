{
 "cells": [
  {
   "cell_type": "code",
   "execution_count": 8,
   "metadata": {},
   "outputs": [],
   "source": [
    "def main():\n",
    "    print('Hello user and welcome to the 21 matchsticks game! \\nThe objective of the game is to take matchsticks from a pile of 21. \\nEach turn player must take at least 1 and at most 3 matchsicks \\nEach player competes with one anoher and the one to take the final match wins.')\n",
    "    playmode = input('First tell me if you want to play a \\'bot\\' or another \\'player\\': ')\n",
    "    global sticks\n",
    "    sticks = 21\n",
    "    if playmode != 'player' and playmode != 'bot':\n",
    "        print('inproper input! Lets start all over again.')\n",
    "        return main()\n",
    "    elif playmode == 'player':\n",
    "        turn = 'player1'\n",
    "        \n",
    "        while True:\n",
    "            player_turn(turn)\n",
    "            \n",
    "            if sticks <=0 :\n",
    "                break\n",
    "\n",
    "            if turn == 'player1':\n",
    "                turn = 'player2'\n",
    "            else:\n",
    "                turn = 'player1'\n",
    "    elif playmode == 'bot':\n",
    "        turn = 'bot'\n",
    "        while True:\n",
    "            if turn == 'player':\n",
    "                player_turn(turn)\n",
    "            else:\n",
    "                bot_turn()\n",
    "\n",
    "            if sticks <=0 :\n",
    "                break\n",
    "\n",
    "            if turn == 'player':\n",
    "                turn = 'bot'\n",
    "            else:\n",
    "                turn = 'player'\n",
    "    print(turn, 'Won')"
   ]
  },
  {
   "cell_type": "code",
   "execution_count": 9,
   "metadata": {},
   "outputs": [],
   "source": [
    "def player_turn(turn):\n",
    "    global sticks\n",
    "    print('It is turn for', turn, 'to take matches.')\n",
    "    print(f'there are {sticks} matchsticks left: ', '|'*sticks)\n",
    "    \n",
    "    try:\n",
    "        curr_input = int(input('Give me a number of stick between 1 and 3 you want to take: '))\n",
    "        if curr_input < 3 or curr_input > 1:\n",
    "            sticks -= curr_input\n",
    "            print('='*20)\n",
    "    except:\n",
    "        print('invalid input, try again please!')\n",
    "        player_turn(turn)"
   ]
  },
  {
   "cell_type": "code",
   "execution_count": 10,
   "metadata": {},
   "outputs": [],
   "source": [
    "def bot_turn():\n",
    "    global sticks\n",
    "    print(f'there are {sticks} matchsticks left: ', '|'*sticks)\n",
    "    print('bot took ', sticks%4, 'matchsticks.')\n",
    "    sticks -= sticks%4"
   ]
  },
  {
   "cell_type": "code",
   "execution_count": 11,
   "metadata": {},
   "outputs": [
    {
     "name": "stdout",
     "output_type": "stream",
     "text": [
      "Hello user and welcome to the 21 matchsticks game! \n",
      "The objective of the game is to take matchsticks from a pile of 21. \n",
      "Each turn player must take at least 1 and at most 3 matchsicks \n",
      "Each player competes with one anoher and the one to take the final match wins.\n",
      "It is turn for player1 to take matches.\n",
      "there are 21 matchsticks left:  |||||||||||||||||||||\n",
      "====================\n",
      "It is turn for player2 to take matches.\n",
      "there are 18 matchsticks left:  ||||||||||||||||||\n",
      "====================\n",
      "It is turn for player1 to take matches.\n",
      "there are 15 matchsticks left:  |||||||||||||||\n",
      "====================\n",
      "It is turn for player2 to take matches.\n",
      "there are 14 matchsticks left:  ||||||||||||||\n",
      "====================\n",
      "It is turn for player1 to take matches.\n",
      "there are 9 matchsticks left:  |||||||||\n",
      "====================\n",
      "It is turn for player2 to take matches.\n",
      "there are 7 matchsticks left:  |||||||\n",
      "====================\n",
      "It is turn for player1 to take matches.\n",
      "there are 5 matchsticks left:  |||||\n",
      "====================\n",
      "It is turn for player2 to take matches.\n",
      "there are 3 matchsticks left:  |||\n",
      "====================\n",
      "It is turn for player1 to take matches.\n",
      "there are 1 matchsticks left:  |\n",
      "====================\n",
      "player1 Won\n"
     ]
    }
   ],
   "source": [
    "main()"
   ]
  },
  {
   "cell_type": "code",
   "execution_count": null,
   "metadata": {},
   "outputs": [],
   "source": []
  }
 ],
 "metadata": {
  "kernelspec": {
   "display_name": "Python 3.9.6 64-bit",
   "language": "python",
   "name": "python3"
  },
  "language_info": {
   "codemirror_mode": {
    "name": "ipython",
    "version": 3
   },
   "file_extension": ".py",
   "mimetype": "text/x-python",
   "name": "python",
   "nbconvert_exporter": "python",
   "pygments_lexer": "ipython3",
   "version": "3.9.6"
  },
  "orig_nbformat": 4,
  "vscode": {
   "interpreter": {
    "hash": "31f2aee4e71d21fbe5cf8b01ff0e069b9275f58929596ceb00d14d90e3e16cd6"
   }
  }
 },
 "nbformat": 4,
 "nbformat_minor": 2
}
